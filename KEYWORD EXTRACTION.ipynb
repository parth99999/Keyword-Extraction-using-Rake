{
 "cells": [
  {
   "cell_type": "code",
   "execution_count": 1,
   "metadata": {},
   "outputs": [],
   "source": [
    "from rake_nltk import Rake"
   ]
  },
  {
   "cell_type": "code",
   "execution_count": 2,
   "metadata": {},
   "outputs": [],
   "source": [
    "r = Rake()"
   ]
  },
  {
   "cell_type": "code",
   "execution_count": 3,
   "metadata": {},
   "outputs": [],
   "source": [
    "text = \"Compatibility of systems of linear constraints over the set of natural numbers. Criteria of compatibility \" \\\n",
    "       \"of a system of linear Diophantine equations, strict inequations, and nonstrict inequations are considered. \" \\\n",
    "       \"Upper bounds for components of a minimal set of solutions and algorithms of construction of minimal generating\"\\\n",
    "       \" sets of solutions for all types of systems are given. These criteria and the corresponding algorithms \" \\\n",
    "       \"for constructing a minimal supporting set of solutions can be used in solving all the considered types of \" \\\n",
    "       \"systems and systems of mixed types.\""
   ]
  },
  {
   "cell_type": "code",
   "execution_count": 4,
   "metadata": {},
   "outputs": [],
   "source": [
    "r.extract_keywords_from_text(text)"
   ]
  },
  {
   "cell_type": "code",
   "execution_count": 5,
   "metadata": {},
   "outputs": [
    {
     "data": {
      "text/plain": [
       "['minimal generating sets',\n",
       " 'linear diophantine equations',\n",
       " 'minimal supporting set',\n",
       " 'minimal set',\n",
       " 'linear constraints',\n",
       " 'upper bounds',\n",
       " 'strict inequations',\n",
       " 'nonstrict inequations',\n",
       " 'natural numbers',\n",
       " 'mixed types',\n",
       " 'corresponding algorithms',\n",
       " 'considered types',\n",
       " 'set',\n",
       " 'types',\n",
       " 'considered',\n",
       " 'algorithms',\n",
       " 'used',\n",
       " 'systems',\n",
       " 'system',\n",
       " 'solving',\n",
       " 'solutions',\n",
       " 'given',\n",
       " 'criteria',\n",
       " 'construction',\n",
       " 'constructing',\n",
       " 'components',\n",
       " 'compatibility']"
      ]
     },
     "execution_count": 5,
     "metadata": {},
     "output_type": "execute_result"
    }
   ],
   "source": [
    "r.get_ranked_phrases()"
   ]
  },
  {
   "cell_type": "code",
   "execution_count": 6,
   "metadata": {},
   "outputs": [
    {
     "data": {
      "text/plain": [
       "[(8.666666666666666, 'minimal generating sets'),\n",
       " (8.5, 'linear diophantine equations'),\n",
       " (7.666666666666666, 'minimal supporting set'),\n",
       " (4.666666666666666, 'minimal set'),\n",
       " (4.5, 'linear constraints'),\n",
       " (4.0, 'upper bounds'),\n",
       " (4.0, 'strict inequations'),\n",
       " (4.0, 'nonstrict inequations'),\n",
       " (4.0, 'natural numbers'),\n",
       " (3.666666666666667, 'mixed types'),\n",
       " (3.5, 'corresponding algorithms'),\n",
       " (3.166666666666667, 'considered types'),\n",
       " (2.0, 'set'),\n",
       " (1.6666666666666667, 'types'),\n",
       " (1.5, 'considered'),\n",
       " (1.5, 'algorithms'),\n",
       " (1.0, 'used'),\n",
       " (1.0, 'systems'),\n",
       " (1.0, 'system'),\n",
       " (1.0, 'solving'),\n",
       " (1.0, 'solutions'),\n",
       " (1.0, 'given'),\n",
       " (1.0, 'criteria'),\n",
       " (1.0, 'construction'),\n",
       " (1.0, 'constructing'),\n",
       " (1.0, 'components'),\n",
       " (1.0, 'compatibility')]"
      ]
     },
     "execution_count": 6,
     "metadata": {},
     "output_type": "execute_result"
    }
   ],
   "source": [
    "r.get_ranked_phrases_with_scores()"
   ]
  },
  {
   "cell_type": "code",
   "execution_count": 7,
   "metadata": {},
   "outputs": [],
   "source": [
    "text1=\"The biggest culprit is Carbon dioxide (CO2), a major constituent of the environment. It is causing a warming effect on the Earth’s surface area by increasing the evaporation of water into the atmosphere. Now water vapours itself being a greenhouse gas, this aggravates warming further due to the heating of more water vapour to be evaporated. The CO2 levels are unlikely to come down in the wake of the continuing burning of fossil fuels. Apart from CO2, Sulphur, CFCs, and Methane are also contributing to global warming.Over-exploitation of natural resources, coupled with population growth, technological advancement, industrialization, urbanization, and deforestation are also leading to increase in the production of these gases. Even when we cook food, we produce a huge amount of CO2. We are over-utilizing technologies, burning fossil fuels, coal, lubricate, and gas. When gasoline is burned in internal-combustion motor of automobiles, it produces huge emission. Besides, Sulphur has formed a cluster resulting in adverse impact on environmental pollution.\""
   ]
  },
  {
   "cell_type": "code",
   "execution_count": 8,
   "metadata": {},
   "outputs": [],
   "source": [
    "r.extract_keywords_from_text(text1)"
   ]
  },
  {
   "cell_type": "code",
   "execution_count": 9,
   "metadata": {},
   "outputs": [
    {
     "data": {
      "text/plain": [
       "['produces huge emission',\n",
       " 'burning fossil fuels',\n",
       " 'fossil fuels',\n",
       " 'huge amount',\n",
       " 'continuing burning',\n",
       " 'warming effect',\n",
       " 'utilizing technologies',\n",
       " 'technological advancement',\n",
       " 'surface area',\n",
       " 'population growth',\n",
       " 'natural resources',\n",
       " 'major constituent',\n",
       " 'global warming',\n",
       " 'environmental pollution',\n",
       " 'earth ’',\n",
       " 'cook food',\n",
       " 'combustion motor',\n",
       " 'cluster resulting',\n",
       " 'carbon dioxide',\n",
       " 'biggest culprit',\n",
       " 'also leading',\n",
       " 'also contributing',\n",
       " 'aggravates warming',\n",
       " 'adverse impact',\n",
       " 'water vapours',\n",
       " 'water vapour',\n",
       " 'co2 levels',\n",
       " 'co2 ),',\n",
       " 'greenhouse gas',\n",
       " 'water',\n",
       " 'co2',\n",
       " 'gas',\n",
       " 'wake',\n",
       " 'urbanization',\n",
       " 'unlikely',\n",
       " 'sulphur',\n",
       " 'production',\n",
       " 'produce',\n",
       " 'methane',\n",
       " 'lubricate',\n",
       " 'internal',\n",
       " 'industrialization',\n",
       " 'increasing',\n",
       " 'increase',\n",
       " 'heating',\n",
       " 'gasoline',\n",
       " 'gases',\n",
       " 'formed',\n",
       " 'exploitation',\n",
       " 'even',\n",
       " 'evaporation',\n",
       " 'evaporated',\n",
       " 'environment',\n",
       " 'due',\n",
       " 'deforestation',\n",
       " 'coupled',\n",
       " 'come',\n",
       " 'coal',\n",
       " 'cfcs',\n",
       " 'causing',\n",
       " 'burned',\n",
       " 'besides',\n",
       " 'automobiles',\n",
       " 'atmosphere',\n",
       " 'apart']"
      ]
     },
     "execution_count": 9,
     "metadata": {},
     "output_type": "execute_result"
    }
   ],
   "source": [
    "r.get_ranked_phrases()"
   ]
  },
  {
   "cell_type": "code",
   "execution_count": 10,
   "metadata": {},
   "outputs": [
    {
     "data": {
      "text/plain": [
       "[(8.5, 'produces huge emission'),\n",
       " (7.5, 'burning fossil fuels'),\n",
       " (5.0, 'fossil fuels'),\n",
       " (4.5, 'huge amount'),\n",
       " (4.5, 'continuing burning'),\n",
       " (4.0, 'warming effect'),\n",
       " (4.0, 'utilizing technologies'),\n",
       " (4.0, 'technological advancement'),\n",
       " (4.0, 'surface area'),\n",
       " (4.0, 'population growth'),\n",
       " (4.0, 'natural resources'),\n",
       " (4.0, 'major constituent'),\n",
       " (4.0, 'global warming'),\n",
       " (4.0, 'environmental pollution'),\n",
       " (4.0, 'earth ’'),\n",
       " (4.0, 'cook food'),\n",
       " (4.0, 'combustion motor'),\n",
       " (4.0, 'cluster resulting'),\n",
       " (4.0, 'carbon dioxide'),\n",
       " (4.0, 'biggest culprit'),\n",
       " (4.0, 'also leading'),\n",
       " (4.0, 'also contributing'),\n",
       " (4.0, 'aggravates warming'),\n",
       " (4.0, 'adverse impact'),\n",
       " (3.666666666666667, 'water vapours'),\n",
       " (3.666666666666667, 'water vapour'),\n",
       " (3.666666666666667, 'co2 levels'),\n",
       " (3.666666666666667, 'co2 ),'),\n",
       " (3.5, 'greenhouse gas'),\n",
       " (1.6666666666666667, 'water'),\n",
       " (1.6666666666666667, 'co2'),\n",
       " (1.5, 'gas'),\n",
       " (1.0, 'wake'),\n",
       " (1.0, 'urbanization'),\n",
       " (1.0, 'unlikely'),\n",
       " (1.0, 'sulphur'),\n",
       " (1.0, 'production'),\n",
       " (1.0, 'produce'),\n",
       " (1.0, 'methane'),\n",
       " (1.0, 'lubricate'),\n",
       " (1.0, 'internal'),\n",
       " (1.0, 'industrialization'),\n",
       " (1.0, 'increasing'),\n",
       " (1.0, 'increase'),\n",
       " (1.0, 'heating'),\n",
       " (1.0, 'gasoline'),\n",
       " (1.0, 'gases'),\n",
       " (1.0, 'formed'),\n",
       " (1.0, 'exploitation'),\n",
       " (1.0, 'even'),\n",
       " (1.0, 'evaporation'),\n",
       " (1.0, 'evaporated'),\n",
       " (1.0, 'environment'),\n",
       " (1.0, 'due'),\n",
       " (1.0, 'deforestation'),\n",
       " (1.0, 'coupled'),\n",
       " (1.0, 'come'),\n",
       " (1.0, 'coal'),\n",
       " (1.0, 'cfcs'),\n",
       " (1.0, 'causing'),\n",
       " (1.0, 'burned'),\n",
       " (1.0, 'besides'),\n",
       " (1.0, 'automobiles'),\n",
       " (1.0, 'atmosphere'),\n",
       " (1.0, 'apart')]"
      ]
     },
     "execution_count": 10,
     "metadata": {},
     "output_type": "execute_result"
    }
   ],
   "source": [
    "r.get_ranked_phrases_with_scores()"
   ]
  },
  {
   "cell_type": "code",
   "execution_count": null,
   "metadata": {},
   "outputs": [],
   "source": []
  }
 ],
 "metadata": {
  "kernelspec": {
   "display_name": "Python 3",
   "language": "python",
   "name": "python3"
  },
  "language_info": {
   "codemirror_mode": {
    "name": "ipython",
    "version": 3
   },
   "file_extension": ".py",
   "mimetype": "text/x-python",
   "name": "python",
   "nbconvert_exporter": "python",
   "pygments_lexer": "ipython3",
   "version": "3.7.3"
  }
 },
 "nbformat": 4,
 "nbformat_minor": 2
}
